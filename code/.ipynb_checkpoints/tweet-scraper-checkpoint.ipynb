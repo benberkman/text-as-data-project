{
 "cells": [
  {
   "cell_type": "code",
   "execution_count": 305,
   "id": "0c41df22",
   "metadata": {},
   "outputs": [],
   "source": [
    "import tweepy\n",
    "import json\n",
    "import pandas as pd\n",
    "from tqdm import tqdm\n",
    "import random\n",
    "from datetime import date\n",
    "from datetime import datetime\n",
    "import numpy as np\n",
    "import re\n",
    "pd.options.mode.chained_assignment = None\n",
    "\n",
    "pd.set_option('max_colwidth', 400)\n",
    "\n",
    "#Ben's twitter dev token\n",
    "bearer = 'AAAAAAAAAAAAAAAAAAAAAKJFPAEAAAAAGRLSLXy4%2FCqOzY9oV8E5mr6qMWM%3DWDd3MjAqfjwXiYCyN4ao8rch5ErocSO5gVGBFKCBjOE8YVFoUp'\n",
    "\n",
    "#connect to twitter API\n",
    "auth = tweepy.OAuth2BearerHandler(bearer)\n",
    "api = tweepy.API(auth)\n",
    "\n",
    "today = date.today()"
   ]
  },
  {
   "cell_type": "code",
   "execution_count": 2,
   "id": "ce016e20",
   "metadata": {},
   "outputs": [],
   "source": [
    "##ideas\n",
    "\n",
    "#https://www.tidytextmining.com/twitter.html"
   ]
  },
  {
   "cell_type": "code",
   "execution_count": 55,
   "id": "e6797d61",
   "metadata": {},
   "outputs": [],
   "source": [
    "#read in congressmembers' twitter accounts\n",
    "\n",
    "house = pd.read_excel('../data/congress_twitter_022822.xlsx', sheet_name = 1, header = 1)\n",
    "senate = pd.read_excel('../data/congress_twitter_022822.xlsx', sheet_name = 0, header = 1)\n",
    "\n",
    "senate['User_Name'] = [str(i).split('/')[-1] for i in senate.Link]\n",
    "house['User_Name'] = [str(i).split('/')[-1] for i in house.Link]\n",
    "\n",
    "senate = senate.rename(columns={\"Name \": \"Name\", \"State \": \"State\", \"Party \": \"Party\"})\n",
    "house = house.rename(columns={\"Name \": \"Name\", \"State \": \"State\", \"Party \": \"Party\"})"
   ]
  },
  {
   "cell_type": "code",
   "execution_count": 25,
   "id": "562c5da8",
   "metadata": {},
   "outputs": [
    {
     "data": {
      "text/html": [
       "<div>\n",
       "<style scoped>\n",
       "    .dataframe tbody tr th:only-of-type {\n",
       "        vertical-align: middle;\n",
       "    }\n",
       "\n",
       "    .dataframe tbody tr th {\n",
       "        vertical-align: top;\n",
       "    }\n",
       "\n",
       "    .dataframe thead th {\n",
       "        text-align: right;\n",
       "    }\n",
       "</style>\n",
       "<table border=\"1\" class=\"dataframe\">\n",
       "  <thead>\n",
       "    <tr style=\"text-align: right;\">\n",
       "      <th></th>\n",
       "      <th>Name</th>\n",
       "      <th>Link</th>\n",
       "      <th>State</th>\n",
       "      <th>Party</th>\n",
       "      <th>User_Name</th>\n",
       "    </tr>\n",
       "  </thead>\n",
       "  <tbody>\n",
       "    <tr>\n",
       "      <th>0</th>\n",
       "      <td>Baldwin, Tammy</td>\n",
       "      <td>https://twitter.com/SenatorBaldwin</td>\n",
       "      <td>WI</td>\n",
       "      <td>D</td>\n",
       "      <td>SenatorBaldwin</td>\n",
       "    </tr>\n",
       "    <tr>\n",
       "      <th>1</th>\n",
       "      <td>Barrasso, John</td>\n",
       "      <td>https://twitter.com/SenJohnBarrasso</td>\n",
       "      <td>WY</td>\n",
       "      <td>R</td>\n",
       "      <td>SenJohnBarrasso</td>\n",
       "    </tr>\n",
       "    <tr>\n",
       "      <th>2</th>\n",
       "      <td>Bennet, Michael F.</td>\n",
       "      <td>https://twitter.com/SenatorBennet</td>\n",
       "      <td>CO</td>\n",
       "      <td>D</td>\n",
       "      <td>SenatorBennet</td>\n",
       "    </tr>\n",
       "    <tr>\n",
       "      <th>3</th>\n",
       "      <td>Blackburn, Marsha</td>\n",
       "      <td>https://twitter.com/MarshaBlackburn</td>\n",
       "      <td>TN</td>\n",
       "      <td>R</td>\n",
       "      <td>MarshaBlackburn</td>\n",
       "    </tr>\n",
       "    <tr>\n",
       "      <th>4</th>\n",
       "      <td>Blumenthal, Richard</td>\n",
       "      <td>https://twitter.com/SenBlumenthal</td>\n",
       "      <td>CT</td>\n",
       "      <td>D</td>\n",
       "      <td>SenBlumenthal</td>\n",
       "    </tr>\n",
       "  </tbody>\n",
       "</table>\n",
       "</div>"
      ],
      "text/plain": [
       "                 Name                                  Link State  Party   \\\n",
       "0       Baldwin, Tammy   https://twitter.com/SenatorBaldwin     WI      D   \n",
       "1       Barrasso, John  https://twitter.com/SenJohnBarrasso     WY      R   \n",
       "2   Bennet, Michael F.    https://twitter.com/SenatorBennet     CO      D   \n",
       "3    Blackburn, Marsha  https://twitter.com/MarshaBlackburn     TN      R   \n",
       "4  Blumenthal, Richard    https://twitter.com/SenBlumenthal     CT      D   \n",
       "\n",
       "         User_Name  \n",
       "0   SenatorBaldwin  \n",
       "1  SenJohnBarrasso  \n",
       "2    SenatorBennet  \n",
       "3  MarshaBlackburn  \n",
       "4    SenBlumenthal  "
      ]
     },
     "execution_count": 25,
     "metadata": {},
     "output_type": "execute_result"
    }
   ],
   "source": [
    "senate.head()"
   ]
  },
  {
   "cell_type": "code",
   "execution_count": 26,
   "id": "4bdfaad6",
   "metadata": {},
   "outputs": [
    {
     "data": {
      "text/html": [
       "<div>\n",
       "<style scoped>\n",
       "    .dataframe tbody tr th:only-of-type {\n",
       "        vertical-align: middle;\n",
       "    }\n",
       "\n",
       "    .dataframe tbody tr th {\n",
       "        vertical-align: top;\n",
       "    }\n",
       "\n",
       "    .dataframe thead th {\n",
       "        text-align: right;\n",
       "    }\n",
       "</style>\n",
       "<table border=\"1\" class=\"dataframe\">\n",
       "  <thead>\n",
       "    <tr style=\"text-align: right;\">\n",
       "      <th></th>\n",
       "      <th>Name</th>\n",
       "      <th>Link</th>\n",
       "      <th>State</th>\n",
       "      <th>Party</th>\n",
       "    </tr>\n",
       "  </thead>\n",
       "  <tbody>\n",
       "    <tr>\n",
       "      <th>0</th>\n",
       "      <td>Adams, Alma</td>\n",
       "      <td>https://twitter.com/RepAdams</td>\n",
       "      <td>NC</td>\n",
       "      <td>D</td>\n",
       "    </tr>\n",
       "    <tr>\n",
       "      <th>1</th>\n",
       "      <td>Aderholt, Robert</td>\n",
       "      <td>https://twitter.com/Robert_Aderholt</td>\n",
       "      <td>AL</td>\n",
       "      <td>R</td>\n",
       "    </tr>\n",
       "    <tr>\n",
       "      <th>2</th>\n",
       "      <td>Aguilar, Pete</td>\n",
       "      <td>https://twitter.com/RepPeteAguilar</td>\n",
       "      <td>CA</td>\n",
       "      <td>D</td>\n",
       "    </tr>\n",
       "    <tr>\n",
       "      <th>3</th>\n",
       "      <td>Allen, Rick</td>\n",
       "      <td>https://twitter.com/RepRickAllen</td>\n",
       "      <td>GA</td>\n",
       "      <td>R</td>\n",
       "    </tr>\n",
       "    <tr>\n",
       "      <th>4</th>\n",
       "      <td>Allred, Colin</td>\n",
       "      <td>https://twitter.com/RepColinAllred</td>\n",
       "      <td>TX</td>\n",
       "      <td>D</td>\n",
       "    </tr>\n",
       "  </tbody>\n",
       "</table>\n",
       "</div>"
      ],
      "text/plain": [
       "              Name                                  Link State Party\n",
       "0       Adams, Alma         https://twitter.com/RepAdams    NC     D\n",
       "1  Aderholt, Robert  https://twitter.com/Robert_Aderholt    AL     R\n",
       "2     Aguilar, Pete   https://twitter.com/RepPeteAguilar    CA     D\n",
       "3       Allen, Rick     https://twitter.com/RepRickAllen    GA     R\n",
       "4     Allred, Colin   https://twitter.com/RepColinAllred    TX     D"
      ]
     },
     "execution_count": 26,
     "metadata": {},
     "output_type": "execute_result"
    }
   ],
   "source": [
    "house.head()"
   ]
  },
  {
   "cell_type": "code",
   "execution_count": 29,
   "id": "79b5ccd6",
   "metadata": {},
   "outputs": [],
   "source": [
    "users_senate = [(str(i).split('/')[-1]) for i in senate.Link]\n",
    "users_house = [(str(i).split('/')[-1]) for i in house.Link]"
   ]
  },
  {
   "cell_type": "code",
   "execution_count": 30,
   "id": "9c664dbd",
   "metadata": {},
   "outputs": [
    {
     "data": {
      "text/plain": [
       "100"
      ]
     },
     "execution_count": 30,
     "metadata": {},
     "output_type": "execute_result"
    }
   ],
   "source": [
    "len(users_senate)"
   ]
  },
  {
   "cell_type": "code",
   "execution_count": 31,
   "id": "5f607e45",
   "metadata": {},
   "outputs": [
    {
     "data": {
      "text/plain": [
       "440"
      ]
     },
     "execution_count": 31,
     "metadata": {},
     "output_type": "execute_result"
    }
   ],
   "source": [
    "len(users_house)"
   ]
  },
  {
   "cell_type": "code",
   "execution_count": 243,
   "id": "b2574dcc",
   "metadata": {},
   "outputs": [
    {
     "name": "stderr",
     "output_type": "stream",
     "text": [
      "100%|██████████| 100/100 [01:13<00:00,  1.36it/s]\n"
     ]
    }
   ],
   "source": [
    "senators = []\n",
    "\n",
    "for name in tqdm(users_senate):\n",
    "    \n",
    "    try:\n",
    "        rep = api.user_timeline(screen_name = name, count = 200, include_rts = False, exclude_replies = True,\n",
    "                               tweet_mode = 'extended')\n",
    "        json_data = [r._json for r in rep]\n",
    "        df = pd.json_normalize(json_data)\n",
    "        senators.append(df)\n",
    "        \n",
    "    except:\n",
    "        pass\n",
    "    \n",
    "senators = pd.concat(senators)"
   ]
  },
  {
   "cell_type": "code",
   "execution_count": 248,
   "id": "9042b68a",
   "metadata": {},
   "outputs": [
    {
     "name": "stderr",
     "output_type": "stream",
     "text": [
      "100%|██████████| 440/440 [04:31<00:00,  1.62it/s]\n"
     ]
    }
   ],
   "source": [
    "house_members = []\n",
    "users = [i.split('/')[-1] for i in senate.Link]\n",
    "\n",
    "for name in tqdm(users_house):\n",
    "    \n",
    "    try:\n",
    "        rep = api.user_timeline(screen_name = name, count = 200, include_rts = False, exclude_replies = True,\n",
    "                               tweet_mode = 'extended')\n",
    "        json_data = [r._json for r in rep]\n",
    "        df = pd.json_normalize(json_data)\n",
    "        house_members.append(df)\n",
    "        \n",
    "    except:\n",
    "        pass\n",
    "    \n",
    "house_members = pd.concat(house_members)"
   ]
  },
  {
   "cell_type": "code",
   "execution_count": 249,
   "id": "011973a2",
   "metadata": {},
   "outputs": [],
   "source": [
    "senators_df = senators.merge(senate, left_on = 'user.screen_name', right_on = 'User_Name')\n",
    "senators_df['Senate'] = 1\n",
    "\n",
    "house_df = house_members.merge(house, left_on = 'user.screen_name', right_on = 'User_Name')\n",
    "house_df['Senate'] = 0"
   ]
  },
  {
   "cell_type": "code",
   "execution_count": 250,
   "id": "dbf129ce",
   "metadata": {},
   "outputs": [
    {
     "data": {
      "text/plain": [
       "(14509, 186)"
      ]
     },
     "execution_count": 250,
     "metadata": {},
     "output_type": "execute_result"
    }
   ],
   "source": [
    "senators_df.shape"
   ]
  },
  {
   "cell_type": "code",
   "execution_count": 251,
   "id": "895a641b",
   "metadata": {},
   "outputs": [
    {
     "data": {
      "text/plain": [
       "(59720, 189)"
      ]
     },
     "execution_count": 251,
     "metadata": {},
     "output_type": "execute_result"
    }
   ],
   "source": [
    "house_df.shape"
   ]
  },
  {
   "cell_type": "code",
   "execution_count": 252,
   "id": "ea7af357",
   "metadata": {},
   "outputs": [],
   "source": [
    "#stack the house and senate tweets\n",
    "\n",
    "tweets = house_df.append(senators_df)"
   ]
  },
  {
   "cell_type": "code",
   "execution_count": 326,
   "id": "8958ce22",
   "metadata": {},
   "outputs": [],
   "source": [
    "#select tweets about Ukraine\n",
    "#I use 'Ukrain' to capture 'Ukraine' or 'Ukrainian'\n",
    "\n",
    "ukraine = tweets[tweets.full_text.str.contains('Ukrain', case = False)]"
   ]
  },
  {
   "cell_type": "code",
   "execution_count": 327,
   "id": "6972ae30",
   "metadata": {},
   "outputs": [],
   "source": [
    "#get how old each tweet is\n",
    "\n",
    "ukraine['created_at'] = pd.to_datetime(ukraine['created_at']).dt.date\n",
    "ukraine['days_old'] = today - ukraine['created_at']"
   ]
  },
  {
   "cell_type": "code",
   "execution_count": 328,
   "id": "463cac5b",
   "metadata": {},
   "outputs": [],
   "source": [
    "#select tweets greater than three days old so they had a chance to go viral\n",
    "\n",
    "ukraine = ukraine[ukraine['days_old'] > pd.Timedelta(3, unit = 'd')]"
   ]
  },
  {
   "cell_type": "code",
   "execution_count": 329,
   "id": "b50cbb1e",
   "metadata": {},
   "outputs": [],
   "source": [
    "#select only non-quoted tweets\n",
    "\n",
    "ukraine = ukraine[ukraine['is_quote_status'] == False]"
   ]
  },
  {
   "cell_type": "code",
   "execution_count": 330,
   "id": "07968aaa",
   "metadata": {},
   "outputs": [],
   "source": [
    "#select relevant columns\n",
    "\n",
    "ukraine = ukraine[['created_at', 'id_str', 'full_text', 'retweet_count', \n",
    "                   'favorite_count', 'user.name','user.followers_count', 'Name', 'Link', 'State',\n",
    "                   'Party', 'User_Name', 'Senate', 'days_old']]"
   ]
  },
  {
   "cell_type": "code",
   "execution_count": 331,
   "id": "12e51943",
   "metadata": {},
   "outputs": [
    {
     "data": {
      "text/plain": [
       "(4377, 14)"
      ]
     },
     "execution_count": 331,
     "metadata": {},
     "output_type": "execute_result"
    }
   ],
   "source": [
    "ukraine.shape"
   ]
  },
  {
   "cell_type": "code",
   "execution_count": 332,
   "id": "0f40e0fa",
   "metadata": {},
   "outputs": [],
   "source": [
    "#get mean number of RTs by user\n",
    "\n",
    "ukraine['mean_rt'] = ukraine.groupby('user.name')['retweet_count'].transform('mean')"
   ]
  },
  {
   "cell_type": "code",
   "execution_count": 333,
   "id": "4e9ebeff",
   "metadata": {},
   "outputs": [],
   "source": [
    "#viral is tweet got twice as many RTs are mean per user\n",
    "\n",
    "ukraine['viral'] = np.where(ukraine['retweet_count'] > ukraine['mean_rt'] * 2, 1, 0)"
   ]
  },
  {
   "cell_type": "code",
   "execution_count": 334,
   "id": "51136651",
   "metadata": {},
   "outputs": [],
   "source": [
    "#tweet url\n",
    "\n",
    "ukraine['url'] = 'https://twitter.com/twitter/status/' + ukraine['id_str']"
   ]
  },
  {
   "cell_type": "code",
   "execution_count": 335,
   "id": "3514c2f2",
   "metadata": {},
   "outputs": [
    {
     "data": {
      "text/plain": [
       "0    3943\n",
       "1     434\n",
       "Name: viral, dtype: int64"
      ]
     },
     "execution_count": 335,
     "metadata": {},
     "output_type": "execute_result"
    }
   ],
   "source": [
    "ukraine.viral.value_counts()"
   ]
  },
  {
   "cell_type": "code",
   "execution_count": 336,
   "id": "9b37c8a9",
   "metadata": {},
   "outputs": [],
   "source": [
    "ukraine = ukraine.reset_index(drop = True)"
   ]
  },
  {
   "cell_type": "code",
   "execution_count": 337,
   "id": "c7b27c03",
   "metadata": {},
   "outputs": [],
   "source": [
    "#remove urls\n",
    "ukraine['text'] = ukraine.full_text.replace(r'http\\S+', '', regex = True)\n",
    "\n",
    "#remove non alpha-numeric characters and lower case the strings\n",
    "ukraine['text'] = ukraine.text.replace('[^a-zA-Z]', ' ', regex = True).str.lower()"
   ]
  },
  {
   "cell_type": "code",
   "execution_count": 338,
   "id": "7e9ba39b",
   "metadata": {
    "scrolled": false
   },
   "outputs": [
    {
     "data": {
      "text/html": [
       "<div>\n",
       "<style scoped>\n",
       "    .dataframe tbody tr th:only-of-type {\n",
       "        vertical-align: middle;\n",
       "    }\n",
       "\n",
       "    .dataframe tbody tr th {\n",
       "        vertical-align: top;\n",
       "    }\n",
       "\n",
       "    .dataframe thead th {\n",
       "        text-align: right;\n",
       "    }\n",
       "</style>\n",
       "<table border=\"1\" class=\"dataframe\">\n",
       "  <thead>\n",
       "    <tr style=\"text-align: right;\">\n",
       "      <th></th>\n",
       "      <th>created_at</th>\n",
       "      <th>id_str</th>\n",
       "      <th>full_text</th>\n",
       "      <th>retweet_count</th>\n",
       "      <th>favorite_count</th>\n",
       "      <th>user.name</th>\n",
       "      <th>user.followers_count</th>\n",
       "      <th>Name</th>\n",
       "      <th>Link</th>\n",
       "      <th>State</th>\n",
       "      <th>Party</th>\n",
       "      <th>User_Name</th>\n",
       "      <th>Senate</th>\n",
       "      <th>days_old</th>\n",
       "      <th>mean_rt</th>\n",
       "      <th>viral</th>\n",
       "      <th>url</th>\n",
       "      <th>text</th>\n",
       "    </tr>\n",
       "  </thead>\n",
       "  <tbody>\n",
       "    <tr>\n",
       "      <th>0</th>\n",
       "      <td>2022-03-30</td>\n",
       "      <td>1509184543932268551</td>\n",
       "      <td>Under President Biden, America is taking unprecedented steps to hold Russia accountable:\\n✅ $13.6 billion in support for Ukraine\\n✅ Revoke permanent normal trade relations from Russia\\n✅ Reauthorize and strengthen the Global Magnitsky Human Rights Accountability Act</td>\n",
       "      <td>1</td>\n",
       "      <td>6</td>\n",
       "      <td>Rep. Alma Adams</td>\n",
       "      <td>28132</td>\n",
       "      <td>Adams, Alma</td>\n",
       "      <td>https://twitter.com/RepAdams</td>\n",
       "      <td>NC</td>\n",
       "      <td>D</td>\n",
       "      <td>RepAdams</td>\n",
       "      <td>0</td>\n",
       "      <td>16 days</td>\n",
       "      <td>3.666667</td>\n",
       "      <td>0</td>\n",
       "      <td>https://twitter.com/twitter/status/1509184543932268551</td>\n",
       "      <td>under president biden  america is taking unprecedented steps to hold russia accountable          billion in support for ukraine   revoke permanent normal trade relations from russia   reauthorize and strengthen the global magnitsky human rights accountability act</td>\n",
       "    </tr>\n",
       "    <tr>\n",
       "      <th>1</th>\n",
       "      <td>2022-03-16</td>\n",
       "      <td>1504204222908280836</td>\n",
       "      <td>President Zelenskyy called on Congress to act this morning, specifically imploring us that ‘More packages of aggressive sanctions are needed every week until the Russian military machine stops.’ I’m proud to answer that call. #UkraineUnderAttack https://t.co/W2wwylzm7O</td>\n",
       "      <td>7</td>\n",
       "      <td>18</td>\n",
       "      <td>Rep. Alma Adams</td>\n",
       "      <td>28132</td>\n",
       "      <td>Adams, Alma</td>\n",
       "      <td>https://twitter.com/RepAdams</td>\n",
       "      <td>NC</td>\n",
       "      <td>D</td>\n",
       "      <td>RepAdams</td>\n",
       "      <td>0</td>\n",
       "      <td>30 days</td>\n",
       "      <td>3.666667</td>\n",
       "      <td>0</td>\n",
       "      <td>https://twitter.com/twitter/status/1504204222908280836</td>\n",
       "      <td>president zelenskyy called on congress to act this morning  specifically imploring us that  more packages of aggressive sanctions are needed every week until the russian military machine stops   i m proud to answer that call   ukraineunderattack</td>\n",
       "    </tr>\n",
       "    <tr>\n",
       "      <th>2</th>\n",
       "      <td>2022-03-16</td>\n",
       "      <td>1504157460902432769</td>\n",
       "      <td>Tomorrow, I'm joining @FSCDems and Committee Republicans to pass legislation to further isolate Russia and support President Zelenskyy and the people of Ukraine. https://t.co/twcDjYGnwR</td>\n",
       "      <td>3</td>\n",
       "      <td>3</td>\n",
       "      <td>Rep. Alma Adams</td>\n",
       "      <td>28132</td>\n",
       "      <td>Adams, Alma</td>\n",
       "      <td>https://twitter.com/RepAdams</td>\n",
       "      <td>NC</td>\n",
       "      <td>D</td>\n",
       "      <td>RepAdams</td>\n",
       "      <td>0</td>\n",
       "      <td>30 days</td>\n",
       "      <td>3.666667</td>\n",
       "      <td>0</td>\n",
       "      <td>https://twitter.com/twitter/status/1504157460902432769</td>\n",
       "      <td>tomorrow  i m joining  fscdems and committee republicans to pass legislation to further isolate russia and support president zelenskyy and the people of ukraine</td>\n",
       "    </tr>\n",
       "    <tr>\n",
       "      <th>3</th>\n",
       "      <td>2022-04-02</td>\n",
       "      <td>1510286182382555136</td>\n",
       "      <td>Coming from two nations, neither of which were created by democracy, this is outlandish. Beijing has refused to condemn Russia’s invasion of Ukraine, and with this alliance, the United States needs to remain vigilant in its dealings with these autocratic, totalitarian nations. https://t.co/R8ixKyeEDy</td>\n",
       "      <td>2</td>\n",
       "      <td>2</td>\n",
       "      <td>Robert Aderholt</td>\n",
       "      <td>31563</td>\n",
       "      <td>Aderholt, Robert</td>\n",
       "      <td>https://twitter.com/Robert_Aderholt</td>\n",
       "      <td>AL</td>\n",
       "      <td>R</td>\n",
       "      <td>Robert_Aderholt</td>\n",
       "      <td>0</td>\n",
       "      <td>13 days</td>\n",
       "      <td>21.090909</td>\n",
       "      <td>0</td>\n",
       "      <td>https://twitter.com/twitter/status/1510286182382555136</td>\n",
       "      <td>coming from two nations  neither of which were created by democracy  this is outlandish  beijing has refused to condemn russia s invasion of ukraine  and with this alliance  the united states needs to remain vigilant in its dealings with these autocratic  totalitarian nations</td>\n",
       "    </tr>\n",
       "    <tr>\n",
       "      <th>4</th>\n",
       "      <td>2022-03-28</td>\n",
       "      <td>1508534978996584451</td>\n",
       "      <td>On Monday, Ukraine recaptured the city of Trostyanets and today the city of Irpin outside of Kyiv. The Ukrainian people surprised Putin with their resilience and continue to push back on his brutal attempt to bring back Soviet-style control to the region. https://t.co/2rg7ZJJNyC</td>\n",
       "      <td>1</td>\n",
       "      <td>4</td>\n",
       "      <td>Robert Aderholt</td>\n",
       "      <td>31563</td>\n",
       "      <td>Aderholt, Robert</td>\n",
       "      <td>https://twitter.com/Robert_Aderholt</td>\n",
       "      <td>AL</td>\n",
       "      <td>R</td>\n",
       "      <td>Robert_Aderholt</td>\n",
       "      <td>0</td>\n",
       "      <td>18 days</td>\n",
       "      <td>21.090909</td>\n",
       "      <td>0</td>\n",
       "      <td>https://twitter.com/twitter/status/1508534978996584451</td>\n",
       "      <td>on monday  ukraine recaptured the city of trostyanets and today the city of irpin outside of kyiv  the ukrainian people surprised putin with their resilience and continue to push back on his brutal attempt to bring back soviet style control to the region</td>\n",
       "    </tr>\n",
       "  </tbody>\n",
       "</table>\n",
       "</div>"
      ],
      "text/plain": [
       "   created_at               id_str  \\\n",
       "0  2022-03-30  1509184543932268551   \n",
       "1  2022-03-16  1504204222908280836   \n",
       "2  2022-03-16  1504157460902432769   \n",
       "3  2022-04-02  1510286182382555136   \n",
       "4  2022-03-28  1508534978996584451   \n",
       "\n",
       "                                                                                                                                                                                                                                                                                                       full_text  \\\n",
       "0                                     Under President Biden, America is taking unprecedented steps to hold Russia accountable:\\n✅ $13.6 billion in support for Ukraine\\n✅ Revoke permanent normal trade relations from Russia\\n✅ Reauthorize and strengthen the Global Magnitsky Human Rights Accountability Act   \n",
       "1                                  President Zelenskyy called on Congress to act this morning, specifically imploring us that ‘More packages of aggressive sanctions are needed every week until the Russian military machine stops.’ I’m proud to answer that call. #UkraineUnderAttack https://t.co/W2wwylzm7O   \n",
       "2                                                                                                                      Tomorrow, I'm joining @FSCDems and Committee Republicans to pass legislation to further isolate Russia and support President Zelenskyy and the people of Ukraine. https://t.co/twcDjYGnwR   \n",
       "3  Coming from two nations, neither of which were created by democracy, this is outlandish. Beijing has refused to condemn Russia’s invasion of Ukraine, and with this alliance, the United States needs to remain vigilant in its dealings with these autocratic, totalitarian nations. https://t.co/R8ixKyeEDy   \n",
       "4                        On Monday, Ukraine recaptured the city of Trostyanets and today the city of Irpin outside of Kyiv. The Ukrainian people surprised Putin with their resilience and continue to push back on his brutal attempt to bring back Soviet-style control to the region. https://t.co/2rg7ZJJNyC   \n",
       "\n",
       "   retweet_count  favorite_count        user.name  user.followers_count  \\\n",
       "0              1               6  Rep. Alma Adams                 28132   \n",
       "1              7              18  Rep. Alma Adams                 28132   \n",
       "2              3               3  Rep. Alma Adams                 28132   \n",
       "3              2               2  Robert Aderholt                 31563   \n",
       "4              1               4  Robert Aderholt                 31563   \n",
       "\n",
       "               Name                                 Link State Party  \\\n",
       "0       Adams, Alma         https://twitter.com/RepAdams    NC     D   \n",
       "1       Adams, Alma         https://twitter.com/RepAdams    NC     D   \n",
       "2       Adams, Alma         https://twitter.com/RepAdams    NC     D   \n",
       "3  Aderholt, Robert  https://twitter.com/Robert_Aderholt    AL     R   \n",
       "4  Aderholt, Robert  https://twitter.com/Robert_Aderholt    AL     R   \n",
       "\n",
       "         User_Name  Senate days_old    mean_rt  viral  \\\n",
       "0         RepAdams       0  16 days   3.666667      0   \n",
       "1         RepAdams       0  30 days   3.666667      0   \n",
       "2         RepAdams       0  30 days   3.666667      0   \n",
       "3  Robert_Aderholt       0  13 days  21.090909      0   \n",
       "4  Robert_Aderholt       0  18 days  21.090909      0   \n",
       "\n",
       "                                                      url  \\\n",
       "0  https://twitter.com/twitter/status/1509184543932268551   \n",
       "1  https://twitter.com/twitter/status/1504204222908280836   \n",
       "2  https://twitter.com/twitter/status/1504157460902432769   \n",
       "3  https://twitter.com/twitter/status/1510286182382555136   \n",
       "4  https://twitter.com/twitter/status/1508534978996584451   \n",
       "\n",
       "                                                                                                                                                                                                                                                                                     text  \n",
       "0                 under president biden  america is taking unprecedented steps to hold russia accountable          billion in support for ukraine   revoke permanent normal trade relations from russia   reauthorize and strengthen the global magnitsky human rights accountability act  \n",
       "1                                  president zelenskyy called on congress to act this morning  specifically imploring us that  more packages of aggressive sanctions are needed every week until the russian military machine stops   i m proud to answer that call   ukraineunderattack   \n",
       "2                                                                                                                      tomorrow  i m joining  fscdems and committee republicans to pass legislation to further isolate russia and support president zelenskyy and the people of ukraine    \n",
       "3  coming from two nations  neither of which were created by democracy  this is outlandish  beijing has refused to condemn russia s invasion of ukraine  and with this alliance  the united states needs to remain vigilant in its dealings with these autocratic  totalitarian nations    \n",
       "4                        on monday  ukraine recaptured the city of trostyanets and today the city of irpin outside of kyiv  the ukrainian people surprised putin with their resilience and continue to push back on his brutal attempt to bring back soviet style control to the region    "
      ]
     },
     "execution_count": 338,
     "metadata": {},
     "output_type": "execute_result"
    }
   ],
   "source": [
    "ukraine.head()"
   ]
  },
  {
   "cell_type": "code",
   "execution_count": 339,
   "id": "aa182883",
   "metadata": {},
   "outputs": [],
   "source": [
    "ukraine.to_csv('../data/ukraine_tweets.csv', index = False)"
   ]
  }
 ],
 "metadata": {
  "kernelspec": {
   "display_name": "nyt",
   "language": "python",
   "name": "nyt"
  },
  "language_info": {
   "codemirror_mode": {
    "name": "ipython",
    "version": 3
   },
   "file_extension": ".py",
   "mimetype": "text/x-python",
   "name": "python",
   "nbconvert_exporter": "python",
   "pygments_lexer": "ipython3",
   "version": "3.8.8"
  }
 },
 "nbformat": 4,
 "nbformat_minor": 5
}
